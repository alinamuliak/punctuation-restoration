{
 "metadata": {
  "kernelspec": {
   "display_name": "Python 3",
   "language": "python",
   "name": "python3"
  },
  "language_info": {
   "name": "python",
   "version": "3.10.10",
   "mimetype": "text/x-python",
   "codemirror_mode": {
    "name": "ipython",
    "version": 3
   },
   "pygments_lexer": "ipython3",
   "nbconvert_exporter": "python",
   "file_extension": ".py"
  }
 },
 "nbformat_minor": 4,
 "nbformat": 4,
 "cells": [
  {
   "cell_type": "code",
   "source": [
    "import nltk\n",
    "import numpy as np\n",
    "import pandas as pd\n",
    "import random\n",
    "from sklearn.model_selection import train_test_split\n",
    "import pprint, time"
   ],
   "metadata": {
    "execution": {
     "iopub.status.busy": "2023-06-03T10:57:18.245447Z",
     "iopub.execute_input": "2023-06-03T10:57:18.245842Z",
     "iopub.status.idle": "2023-06-03T10:57:18.251697Z",
     "shell.execute_reply.started": "2023-06-03T10:57:18.245814Z",
     "shell.execute_reply": "2023-06-03T10:57:18.250386Z"
    },
    "trusted": true
   },
   "execution_count": 17,
   "outputs": []
  },
  {
   "cell_type": "markdown",
   "source": [
    "# Preprocessing of data\n",
    "\n",
    "Here I will aim to form an array of arrays of tuples with each word and the following punctuation mark.\n",
    "\n",
    "Example of single sentence:\n",
    "[('I', ' '),\n",
    "('love', ' '),\n",
    "('kittens', ','),\n",
    "('and', ' ').\n",
    "('you', '?')]"
   ],
   "metadata": {}
  },
  {
   "cell_type": "code",
   "source": [
    "from os import listdir\n",
    "from os.path import isfile, join\n",
    "\n",
    "datapath = 'target-sentences-tokenized'\n",
    "onlyfiles = [join(datapath, f) for f in listdir(datapath) if isfile(join(datapath, f))]"
   ],
   "metadata": {
    "execution": {
     "iopub.status.busy": "2023-06-03T10:57:18.254420Z",
     "iopub.execute_input": "2023-06-03T10:57:18.254785Z",
     "iopub.status.idle": "2023-06-03T10:57:19.012231Z",
     "shell.execute_reply.started": "2023-06-03T10:57:18.254756Z",
     "shell.execute_reply": "2023-06-03T10:57:19.011368Z"
    },
    "trusted": true
   },
   "execution_count": 18,
   "outputs": []
  },
  {
   "cell_type": "code",
   "source": [
    "data = []\n",
    "punctuations = {',', '.', '!', '?', ':', ';'}\n",
    "ignore = {'\"', \"'\", '-', '–', '—', '(', ')'}\n",
    "for file in onlyfiles:\n",
    "    with open(file, 'r') as f:\n",
    "        lines = f.readlines()\n",
    "    for l in lines:\n",
    "        words = l.split()\n",
    "        curr_sent = []\n",
    "        i = 0\n",
    "        while i < len(words) - 1:\n",
    "            current_pair = [words[i].lower()]\n",
    "            if words[i].isnumeric():\n",
    "                current_pair = ['NUM']\n",
    "            if words[i] in ignore:\n",
    "                i += 1\n",
    "                continue\n",
    "            if words[i + 1] in punctuations:\n",
    "                current_pair.append(words[i + 1])\n",
    "                i += 1\n",
    "            elif words[i + 1] in ignore:\n",
    "                current_pair.append(' ')\n",
    "                i += 1\n",
    "            else:\n",
    "                current_pair.append(' ')\n",
    "            curr_sent.append(tuple(current_pair))\n",
    "            i += 1\n",
    "        data.append(curr_sent)"
   ],
   "metadata": {
    "execution": {
     "iopub.status.busy": "2023-06-03T10:57:19.013500Z",
     "iopub.execute_input": "2023-06-03T10:57:19.014297Z",
     "iopub.status.idle": "2023-06-03T10:57:20.908837Z",
     "shell.execute_reply.started": "2023-06-03T10:57:19.014265Z",
     "shell.execute_reply": "2023-06-03T10:57:20.907781Z"
    },
    "trusted": true
   },
   "execution_count": 19,
   "outputs": []
  },
  {
   "cell_type": "code",
   "source": [
    "data[:10]"
   ],
   "metadata": {
    "execution": {
     "iopub.status.busy": "2023-06-03T10:57:20.911100Z",
     "iopub.execute_input": "2023-06-03T10:57:20.911577Z",
     "iopub.status.idle": "2023-06-03T10:57:20.923285Z",
     "shell.execute_reply.started": "2023-06-03T10:57:20.911544Z",
     "shell.execute_reply": "2023-06-03T10:57:20.922083Z"
    },
    "collapsed": true,
    "jupyter": {
     "outputs_hidden": true
    },
    "trusted": true
   },
   "execution_count": 20,
   "outputs": [
    {
     "execution_count": 20,
     "output_type": "execute_result",
     "data": {
      "text/plain": "[[('пишаюся', ','), ('бути', ' '), ('греко', ' '), ('католиком', '!')],\n [('греко', ' '),\n  ('католики', ' '),\n  ('вміють', ' '),\n  ('обирати', ' '),\n  ('дуже', ' '),\n  ('розумних', ' '),\n  ('предстоятелів', ':'),\n  ('попереднім', ' '),\n  ('був', ' '),\n  ('блаженніший', ' '),\n  ('любомир', ' '),\n  ('гузар', ' '),\n  (',', ' '),\n  ('а', ' '),\n  ('зараз', ' '),\n  ('блаженніший', ' '),\n  ('святослав', ' '),\n  ('шевчук', ' ')],\n [('хочу', ' '),\n  ('поділитися', ' '),\n  ('із', ' '),\n  ('вами', ' '),\n  ('цитатою', ' '),\n  ('блаженнішого', ' '),\n  ('святослава', ' '),\n  ('ще', ' '),\n  ('перед', ' '),\n  ('першим', ' '),\n  ('туром', ':')],\n [('«', ' '),\n  ('прохаю', ':'),\n  ('ніколи', ' '),\n  ('не', ' '),\n  ('голосуйте', ' '),\n  ('проти', ' ')],\n [('бо', ' '),\n  ('голосуючи', ' '),\n  ('проти', ' '),\n  (',', ' '),\n  ('ви', ','),\n  ('де-факто', ','),\n  ('проголосуєте', ' '),\n  ('проти', ' '),\n  ('свого', ' '),\n  ('майбутнього', '.')],\n [('і', ' '),\n  ('це', ' '),\n  ('абсолютно', ' '),\n  ('неконструктивний', ' '),\n  ('і', ' '),\n  ('безвідповідальний', ' '),\n  ('крок', ' '),\n  ('»', '.')],\n [('не', ' '),\n  ('гнівайтеся', ' '),\n  ('між', ' '),\n  ('собою', ' '),\n  ('через', ' '),\n  ('політику', '!')],\n [('умійте', ' '),\n  ('обирати', ','),\n  ('як', ' '),\n  ('греко', ' '),\n  ('католики', '.')],\n [('утомлений', ' '),\n  ('лікар', ' '),\n  ('подивився', ' '),\n  ('на', ' '),\n  ('рюхіна', ' '),\n  ('і', ' '),\n  ('мляво', ' '),\n  ('відповів', ':')],\n [('рухове', ' '),\n  ('і', ' '),\n  ('мовне', ' '),\n  ('збудження', ' '),\n  ('...', ' '),\n  ('маревні', ' '),\n  ('інтерпретації', ' ')]]"
     },
     "metadata": {}
    }
   ]
  },
  {
   "cell_type": "code",
   "source": [
    "len(data)"
   ],
   "metadata": {
    "execution": {
     "iopub.status.busy": "2023-06-03T10:57:20.924496Z",
     "iopub.execute_input": "2023-06-03T10:57:20.924873Z",
     "iopub.status.idle": "2023-06-03T10:57:20.937367Z",
     "shell.execute_reply.started": "2023-06-03T10:57:20.924843Z",
     "shell.execute_reply": "2023-06-03T10:57:20.936129Z"
    },
    "trusted": true
   },
   "execution_count": 21,
   "outputs": [
    {
     "execution_count": 21,
     "output_type": "execute_result",
     "data": {
      "text/plain": "29760"
     },
     "metadata": {}
    }
   ]
  },
  {
   "cell_type": "markdown",
   "source": [
    "---------------"
   ],
   "metadata": {}
  },
  {
   "cell_type": "code",
   "source": [
    "# split data into training and validation set in the ratio 90:10\n",
    "train_set, test_set = train_test_split(data, train_size=0.9, test_size=0.009, random_state=101)\n",
    "\n",
    "# create list of train and test tagged words\n",
    "train_tagged_words = [tup for sent in train_set for tup in sent]\n",
    "test_tagged_words = [tup for sent in test_set for tup in sent]\n",
    "print(len(train_tagged_words))\n",
    "print(len(test_tagged_words))"
   ],
   "metadata": {
    "execution": {
     "iopub.status.busy": "2023-06-03T10:57:20.939038Z",
     "iopub.execute_input": "2023-06-03T10:57:20.939447Z",
     "iopub.status.idle": "2023-06-03T10:57:20.989374Z",
     "shell.execute_reply.started": "2023-06-03T10:57:20.939417Z",
     "shell.execute_reply": "2023-06-03T10:57:20.988384Z"
    },
    "trusted": true
   },
   "execution_count": 22,
   "outputs": [
    {
     "name": "stdout",
     "text": "317054\n3268\n",
     "output_type": "stream"
    }
   ]
  },
  {
   "cell_type": "code",
   "source": [
    "# check some tagged words.\n",
    "train_tagged_words[:5]"
   ],
   "metadata": {
    "execution": {
     "iopub.status.busy": "2023-06-03T10:57:20.991101Z",
     "iopub.execute_input": "2023-06-03T10:57:20.992115Z",
     "iopub.status.idle": "2023-06-03T10:57:20.999976Z",
     "shell.execute_reply.started": "2023-06-03T10:57:20.992074Z",
     "shell.execute_reply": "2023-06-03T10:57:20.998681Z"
    },
    "trusted": true
   },
   "execution_count": 23,
   "outputs": [
    {
     "execution_count": 23,
     "output_type": "execute_result",
     "data": {
      "text/plain": "[('тобі', ' '), ('кажу', ','), ('страшно', '!'), ('моє', ' '), ('життя', ' ')]"
     },
     "metadata": {}
    }
   ]
  },
  {
   "cell_type": "code",
   "source": [
    "#use set datatype to check how many unique tags are present in training data\n",
    "tags = {tag for word, tag in train_tagged_words}\n",
    "print(len(tags))\n",
    "print(tags)\n",
    "\n",
    "# check total words in vocabulary\n",
    "vocab = {word for word, tag in train_tagged_words}"
   ],
   "metadata": {
    "execution": {
     "iopub.status.busy": "2023-06-03T10:57:21.001279Z",
     "iopub.execute_input": "2023-06-03T10:57:21.001637Z",
     "iopub.status.idle": "2023-06-03T10:57:21.153187Z",
     "shell.execute_reply.started": "2023-06-03T10:57:21.001609Z",
     "shell.execute_reply": "2023-06-03T10:57:21.151470Z"
    },
    "trusted": true
   },
   "execution_count": 24,
   "outputs": [
    {
     "name": "stdout",
     "text": "7\n{'.', ':', ' ', '!', ',', '?', ';'}\n",
     "output_type": "stream"
    }
   ]
  },
  {
   "cell_type": "code",
   "source": [
    "# compute Emission Probability\n",
    "def word_given_tag(word, tag, train_bag = train_tagged_words):\n",
    "    tag_list = [pair for pair in train_bag if pair[1]==tag]\n",
    "    count_tag = len(tag_list)#total number of times the passed tag occurred in train_bag\n",
    "    w_given_tag_list = [pair[0] for pair in tag_list if pair[0]==word]\n",
    "#now calculate the total number of times the passed word occurred as the passed tag.\n",
    "    count_w_given_tag = len(w_given_tag_list)\n",
    "\n",
    "\n",
    "    return (count_w_given_tag, count_tag)\n",
    "\n",
    "\n",
    "# compute  Transition Probability\n",
    "def t2_given_t1(t2, t1, train_bag=train_tagged_words):\n",
    "    tags = [pair[1] for pair in train_bag]\n",
    "    count_t1 = len([t for t in tags if t==t1])\n",
    "    count_t2_t1 = 0\n",
    "    for index in range(len(tags)-1):\n",
    "        if tags[index]==t1 and tags[index+1] == t2:\n",
    "            count_t2_t1 += 1\n",
    "    return (count_t2_t1, count_t1)\n",
    "\n",
    "# creating t x t transition matrix of tags, t= no of tags\n",
    "# Matrix(i, j) represents P(jth tag after the ith tag)\n",
    "\n",
    "tags_matrix = np.zeros((len(tags), len(tags)), dtype='float32')\n",
    "for i, t1 in enumerate(list(tags)):\n",
    "    for j, t2 in enumerate(list(tags)):\n",
    "        tags_matrix[i, j] = t2_given_t1(t2, t1)[0]/t2_given_t1(t2, t1)[1]\n",
    "\n",
    "print(tags_matrix)"
   ],
   "metadata": {
    "execution": {
     "iopub.status.busy": "2023-06-03T10:57:21.157082Z",
     "iopub.execute_input": "2023-06-03T10:57:21.157444Z",
     "iopub.status.idle": "2023-06-03T10:57:29.781093Z",
     "shell.execute_reply.started": "2023-06-03T10:57:21.157415Z",
     "shell.execute_reply": "2023-06-03T10:57:29.779899Z"
    },
    "trusted": true
   },
   "execution_count": 25,
   "outputs": [
    {
     "name": "stdout",
     "text": "[[2.9994618e-02 3.6698144e-03 8.4826541e-01 1.2134854e-02 9.9574305e-02\n  6.0674269e-03 2.4465431e-04]\n [1.3048636e-02 2.9655991e-03 8.5943061e-01 1.1862396e-02 1.0616845e-01\n  6.5243179e-03 0.0000000e+00]\n [7.5288720e-02 5.9332168e-03 7.8696495e-01 5.5724396e-03 1.1714672e-01\n  7.3018176e-03 1.7921217e-03]\n [2.6521061e-02 3.1201248e-03 8.5751432e-01 1.2480499e-02 9.5163807e-02\n  4.1601663e-03 1.0400416e-03]\n [1.4186402e-02 2.1760019e-03 8.9326286e-01 5.4258746e-03 8.1133783e-02\n  3.0803143e-03 7.3475385e-04]\n [2.1626703e-02 2.8208746e-03 8.6694878e-01 7.5223320e-03 9.5439583e-02\n  5.6417491e-03 0.0000000e+00]\n [8.1632650e-03 8.1632650e-03 8.9183676e-01 4.0816325e-03 8.5714288e-02\n  2.0408162e-03 0.0000000e+00]]\n",
     "output_type": "stream"
    }
   ]
  },
  {
   "cell_type": "code",
   "source": [
    "# convert the matrix to a df for better readability\n",
    "# the table is same as the transition table shown in section 3 of article\n",
    "tags_df = pd.DataFrame(tags_matrix, columns=list(tags), index=list(tags))\n",
    "display(tags_df)"
   ],
   "metadata": {
    "execution": {
     "iopub.status.busy": "2023-06-03T10:57:29.783098Z",
     "iopub.execute_input": "2023-06-03T10:57:29.783751Z",
     "iopub.status.idle": "2023-06-03T10:57:29.804400Z",
     "shell.execute_reply.started": "2023-06-03T10:57:29.783718Z",
     "shell.execute_reply": "2023-06-03T10:57:29.803094Z"
    },
    "trusted": true
   },
   "execution_count": 26,
   "outputs": [
    {
     "output_type": "display_data",
     "data": {
      "text/plain": "          .         :                   !         ,         ?         ;\n.  0.029995  0.003670  0.848265  0.012135  0.099574  0.006067  0.000245\n:  0.013049  0.002966  0.859431  0.011862  0.106168  0.006524  0.000000\n   0.075289  0.005933  0.786965  0.005572  0.117147  0.007302  0.001792\n!  0.026521  0.003120  0.857514  0.012480  0.095164  0.004160  0.001040\n,  0.014186  0.002176  0.893263  0.005426  0.081134  0.003080  0.000735\n?  0.021627  0.002821  0.866949  0.007522  0.095440  0.005642  0.000000\n;  0.008163  0.008163  0.891837  0.004082  0.085714  0.002041  0.000000",
      "text/html": "<div>\n<style scoped>\n    .dataframe tbody tr th:only-of-type {\n        vertical-align: middle;\n    }\n\n    .dataframe tbody tr th {\n        vertical-align: top;\n    }\n\n    .dataframe thead th {\n        text-align: right;\n    }\n</style>\n<table border=\"1\" class=\"dataframe\">\n  <thead>\n    <tr style=\"text-align: right;\">\n      <th></th>\n      <th>.</th>\n      <th>:</th>\n      <th></th>\n      <th>!</th>\n      <th>,</th>\n      <th>?</th>\n      <th>;</th>\n    </tr>\n  </thead>\n  <tbody>\n    <tr>\n      <th>.</th>\n      <td>0.029995</td>\n      <td>0.003670</td>\n      <td>0.848265</td>\n      <td>0.012135</td>\n      <td>0.099574</td>\n      <td>0.006067</td>\n      <td>0.000245</td>\n    </tr>\n    <tr>\n      <th>:</th>\n      <td>0.013049</td>\n      <td>0.002966</td>\n      <td>0.859431</td>\n      <td>0.011862</td>\n      <td>0.106168</td>\n      <td>0.006524</td>\n      <td>0.000000</td>\n    </tr>\n    <tr>\n      <th></th>\n      <td>0.075289</td>\n      <td>0.005933</td>\n      <td>0.786965</td>\n      <td>0.005572</td>\n      <td>0.117147</td>\n      <td>0.007302</td>\n      <td>0.001792</td>\n    </tr>\n    <tr>\n      <th>!</th>\n      <td>0.026521</td>\n      <td>0.003120</td>\n      <td>0.857514</td>\n      <td>0.012480</td>\n      <td>0.095164</td>\n      <td>0.004160</td>\n      <td>0.001040</td>\n    </tr>\n    <tr>\n      <th>,</th>\n      <td>0.014186</td>\n      <td>0.002176</td>\n      <td>0.893263</td>\n      <td>0.005426</td>\n      <td>0.081134</td>\n      <td>0.003080</td>\n      <td>0.000735</td>\n    </tr>\n    <tr>\n      <th>?</th>\n      <td>0.021627</td>\n      <td>0.002821</td>\n      <td>0.866949</td>\n      <td>0.007522</td>\n      <td>0.095440</td>\n      <td>0.005642</td>\n      <td>0.000000</td>\n    </tr>\n    <tr>\n      <th>;</th>\n      <td>0.008163</td>\n      <td>0.008163</td>\n      <td>0.891837</td>\n      <td>0.004082</td>\n      <td>0.085714</td>\n      <td>0.002041</td>\n      <td>0.000000</td>\n    </tr>\n  </tbody>\n</table>\n</div>"
     },
     "metadata": {}
    }
   ]
  },
  {
   "cell_type": "code",
   "source": [
    "from tqdm import tqdm\n",
    "\n",
    "\n",
    "def Viterbi(words, train_bag=train_tagged_words):\n",
    "    state = []\n",
    "    T = list(set([pair[1] for pair in train_bag]))\n",
    "    print(T)\n",
    "    for key, word in enumerate(tqdm(words)):\n",
    "        # initialise list of probability column for a given observation\n",
    "        p = []\n",
    "        for tag in T:\n",
    "            if key == 0:\n",
    "                transition_p = tags_df.loc['.', tag] + tags_df.loc['?', tag] + tags_df.loc['!', tag]\n",
    "            else:\n",
    "                transition_p = tags_df.loc[state[-1], tag]\n",
    "\n",
    "            # compute emission and state probabilities\n",
    "            count_word_tag, count_tag = word_given_tag(words[key], tag)\n",
    "            emission_p = count_word_tag / count_tag\n",
    "#             emission_p = word_given_tag(words[key], tag)[0]/word_given_tag(words[key], tag)[1]\n",
    "            state_probability = emission_p * transition_p\n",
    "            p.append(state_probability)\n",
    "\n",
    "        pmax = max(p)\n",
    "        # getting state for which probability is maximum\n",
    "        state_max = T[p.index(pmax)]\n",
    "        state.append(state_max)\n",
    "    return list(zip(words, state))\n"
   ],
   "metadata": {
    "execution": {
     "iopub.status.busy": "2023-06-03T10:57:29.806238Z",
     "iopub.execute_input": "2023-06-03T10:57:29.807388Z",
     "iopub.status.idle": "2023-06-03T10:57:29.817914Z",
     "shell.execute_reply.started": "2023-06-03T10:57:29.807343Z",
     "shell.execute_reply": "2023-06-03T10:57:29.816552Z"
    },
    "trusted": true
   },
   "execution_count": 27,
   "outputs": []
  },
  {
   "cell_type": "code",
   "source": [
    "# Let's test our Viterbi algorithm on a few sample sentences of test dataset\n",
    "random.seed(1234)      #define a random seed to get same sentences when run multiple times\n",
    "\n",
    "# choose random 10 numbers\n",
    "rndom = [random.randint(1, len(test_set)) for x in range(10)]\n",
    "\n",
    "# list of 10 sents on which we test the model\n",
    "test_run = [test_set[i] for i in rndom]\n",
    "\n",
    "# list of tagged words\n",
    "test_run_base = [tup for sent in test_run for tup in sent]\n",
    "\n",
    "# list of untagged words\n",
    "test_tagged_words = [tup[0] for sent in test_run for tup in sent]\n",
    "\n",
    "# Here We will only test 10 sentences to check the accuracy\n",
    "# as testing the whole training set takes huge amount of time\n",
    "start = time.time()\n",
    "tagged_seq = Viterbi(test_tagged_words)\n",
    "end = time.time()\n",
    "difference = end-start\n",
    "\n",
    "print(\"Time taken in seconds: \", difference)\n",
    "\n",
    "# accuracy\n",
    "check = [i for i, j in zip(tagged_seq, test_run_base) if i == j]\n",
    "\n",
    "accuracy = len(check)/len(tagged_seq)\n",
    "print('Viterbi Algorithm Accuracy: ', accuracy * 100)"
   ],
   "metadata": {
    "execution": {
     "iopub.status.busy": "2023-06-03T10:57:29.819515Z",
     "iopub.execute_input": "2023-06-03T10:57:29.819960Z",
     "iopub.status.idle": "2023-06-03T10:58:15.652492Z",
     "shell.execute_reply.started": "2023-06-03T10:57:29.819928Z",
     "shell.execute_reply": "2023-06-03T10:58:15.651421Z"
    },
    "trusted": true
   },
   "execution_count": 28,
   "outputs": [
    {
     "name": "stdout",
     "text": "['.', ':', ' ', '!', ',', '?', ';']\n",
     "output_type": "stream"
    },
    {
     "name": "stderr",
     "text": "100%|██████████| 151/151 [00:45<00:00,  3.30it/s]",
     "output_type": "stream"
    },
    {
     "name": "stdout",
     "text": "Time taken in seconds:  45.814030170440674\nViterbi Algorithm Accuracy:  78.80794701986756\n",
     "output_type": "stream"
    },
    {
     "name": "stderr",
     "text": "\n",
     "output_type": "stream"
    }
   ]
  },
  {
   "cell_type": "code",
   "source": [
    "tagged_seq"
   ],
   "metadata": {
    "execution": {
     "iopub.status.busy": "2023-06-03T10:58:15.653840Z",
     "iopub.execute_input": "2023-06-03T10:58:15.654181Z",
     "iopub.status.idle": "2023-06-03T10:58:15.669913Z",
     "shell.execute_reply.started": "2023-06-03T10:58:15.654151Z",
     "shell.execute_reply": "2023-06-03T10:58:15.668925Z"
    },
    "trusted": true
   },
   "execution_count": 29,
   "outputs": [
    {
     "execution_count": 29,
     "output_type": "execute_result",
     "data": {
      "text/plain": "[('і', ' '),\n ('тут', ' '),\n ('до', ' '),\n ('кімнати', ' '),\n ('зайшов', ' '),\n ('якийсь', ' '),\n ('громадянин', ' '),\n ('так', ' '),\n ('що', ' '),\n ('ж', ' '),\n ('робити', ' '),\n ('а', ' '),\n ('з', ' '),\n ('приводу', ' '),\n ('ту', ' '),\n ('NUM', ' '),\n ('розбилися', ' '),\n ('гідні', ' '),\n ('колеги', ' '),\n ('геббельса', '.'),\n ('які', ' '),\n ('в', ' '),\n ('промислових', ' '),\n ('масштабах', ' '),\n ('готували', ' '),\n ('весь', ' '),\n ('той', ' '),\n ('потік', ' '),\n ('пропаганди', ' '),\n ('про', ' '),\n ('нашу', ' '),\n ('країну', ' '),\n ('включаючи', ' '),\n ('фейки', ' '),\n ('про', ' '),\n ('збитий', '.'),\n ('боїнг', '.'),\n ('ось', ' '),\n ('це', ' '),\n ('іронія', '.'),\n ('долі', ' '),\n ('цікавим', ' '),\n ('також', ' '),\n ('є', ' '),\n ('те', ','),\n ('що', ' '),\n ('NUM', ' '),\n ('%', ' '),\n ('висловили', '.'),\n ('загальну', ' '),\n ('недовіру', ','),\n ('церквам', '.'),\n ('проте', ' '),\n ('лише', ' '),\n ('NUM', ' '),\n ('%', ' '),\n ('визначились', '.'),\n ('із', ' '),\n ('тим', ' '),\n ('що', ' '),\n ('взагалі', ' '),\n ('не', ' '),\n ('змогли', ' '),\n ('знайти', ' '),\n ('конкретної', ' '),\n ('церкви', ' '),\n ('якій', ' '),\n ('довіряють', ' '),\n ('панове', '!'),\n ('присяжні', ' '),\n ('дослідницька', ' '),\n ('агенція', '.'),\n ('з', ' '),\n ('якою', ' '),\n ('ми', ' '),\n ('співпрацювали', ' '),\n ('показала', ' '),\n ('кілька', ' '),\n ('кейсів', '.'),\n ('інших', ' '),\n ('фінансових', ' '),\n ('інститутів', '.'),\n ('які', ' '),\n ('теж', ' '),\n ('робили', ' '),\n ('ребрендинг', ','),\n ('за', ' '),\n ('останні', ' '),\n ('кілька', ' '),\n ('років', ' '),\n ('якщо', ' '),\n ('західна', '.'),\n ('україна', ' '),\n ('гордовито', ' '),\n ('думає', ','),\n ('що', ' '),\n ('вона', ' '),\n ('розмовляє', ' '),\n ('українською', ' '),\n ('то', ' '),\n ('це', ' '),\n ('самодурство', '.'),\n ('варто', ' '),\n ('лише', ' '),\n ('послухати', ' '),\n ('розмови', ' '),\n ('у', ' '),\n ('громадському', ' '),\n ('транспорті', ' '),\n ('я', ' '),\n ('нині', ' '),\n ('займалася', ' '),\n ('стіркою', '.'),\n ('слідами', ' '),\n ('минулого', ' '),\n ('шукати', ' '),\n ('відради', '.'),\n ('поки', ' '),\n ('що', ' '),\n ('ніхто', ' '),\n ('точно', ' '),\n ('не', ' '),\n ('знає', ' '),\n ('відповіді', ' '),\n ('на', ' '),\n ('це', ' '),\n ('запитання', ' '),\n ('але', ' '),\n ('дещо', ' '),\n ('все', ' '),\n ('ж', ' '),\n ('таки', ' '),\n ('відомо', ','),\n ('перед', ' '),\n ('будинком', ' '),\n ('крокував', ' '),\n ('взад', ' '),\n ('і', ' '),\n ('вперед', ' '),\n ('перебував', ','),\n ('чоловік', ' '),\n ('з', ' '),\n ('довгими', ' '),\n ('рудими', ' '),\n ('вусами', ','),\n ('з', ' '),\n ('бляхою', '.'),\n ('поліцейського', ','),\n ('на', ' '),\n ('лацкані', ' '),\n ('пальта', ' ')]"
     },
     "metadata": {}
    }
   ]
  },
  {
   "cell_type": "code",
   "source": [
    "len(test_tagged_words)"
   ],
   "metadata": {
    "execution": {
     "iopub.status.busy": "2023-06-03T10:58:15.671337Z",
     "iopub.execute_input": "2023-06-03T10:58:15.671908Z",
     "iopub.status.idle": "2023-06-03T10:58:15.695792Z",
     "shell.execute_reply.started": "2023-06-03T10:58:15.671875Z",
     "shell.execute_reply": "2023-06-03T10:58:15.694406Z"
    },
    "trusted": true
   },
   "execution_count": 30,
   "outputs": [
    {
     "execution_count": 30,
     "output_type": "execute_result",
     "data": {
      "text/plain": "151"
     },
     "metadata": {}
    }
   ]
  },
  {
   "cell_type": "code",
   "source": [
    "def measure_sign(predicted_seq, test_seq, punctuation_sign):\n",
    "    test_pos = set([i for i, (_, second) in enumerate(test_seq) if second == punctuation_sign])\n",
    "    predicted_pos = set([i for i, (_, second) in enumerate(predicted_seq) if second == punctuation_sign])\n",
    "    \n",
    "    # how many times was a punctuation sign restored correctly\n",
    "    true_positives = len(test_pos & predicted_pos)\n",
    "    \n",
    "    # how many times wasn't a punctuation sign restored when it should habe been\n",
    "    false_negatives = len(test_pos - predicted_pos)\n",
    "    \n",
    "    # how many times was a punctuation sign restored when it shouldn't have been there\n",
    "    false_positives = len(predicted_pos - test_pos)\n",
    "    \n",
    "    no_test_pos = set([i for i, (_, second) in enumerate(test_seq) if second != punctuation_sign])\n",
    "    no_predicted_pos = set([i for i, (_, second) in enumerate(predicted_seq) if second != punctuation_sign])\n",
    "    true_negatives = len(no_test_pos & no_predicted_pos)\n",
    "    \n",
    "    return true_positives, false_positives, false_negatives, true_negatives\n",
    "\n",
    "\n",
    "def standard_tests(true_positives, false_positives, false_negatives, true_negatives):\n",
    "    accuracy = (true_positives + true_negatives) / \\\n",
    "        (true_positives + true_negatives + false_positives + false_negatives) \\\n",
    "        if (true_positives + true_negatives + false_positives + false_negatives) > 0 else np.nan\n",
    "    precision = true_positives / (true_positives + false_positives) \\\n",
    "        if (true_positives + false_positives) > 0 else np.nan\n",
    "    recall = true_positives / (true_positives + false_negatives) \\\n",
    "        if (true_positives + false_negatives) > 0 else np.nan\n",
    "    f_score = (2 * precision * recall) / (precision + recall) if (precision + recall) > 0 else np.nan\n",
    "    \n",
    "    return f\"{accuracy:.3f}\", f\"{precision:.3f}\", f\"{recall:.3f}\", f\"{f_score:.3f}\""
   ],
   "metadata": {
    "execution": {
     "iopub.status.busy": "2023-06-03T10:58:15.698513Z",
     "iopub.execute_input": "2023-06-03T10:58:15.699789Z",
     "iopub.status.idle": "2023-06-03T10:58:15.712182Z",
     "shell.execute_reply.started": "2023-06-03T10:58:15.699749Z",
     "shell.execute_reply": "2023-06-03T10:58:15.711277Z"
    },
    "trusted": true
   },
   "execution_count": 31,
   "outputs": []
  },
  {
   "cell_type": "code",
   "source": [
    "def evaluate(predicted_seq, test_seq):\n",
    "    tp, fp, fn, tn = 0,0,0,0\n",
    "    print(\"{:<16} {:<9} {:<12} {:<9} {:<9}\".format(\"Punctuation\", \"Accuracy\", \"Precision\", \"Recall\", \"F-score\"))\n",
    "    for tag in tags:\n",
    "        true_positives, false_positives, false_negatives, true_negatives = \\\n",
    "            measure_sign(predicted_seq, test_seq, tag)\n",
    "        tp += true_positives\n",
    "        fp += false_positives\n",
    "        fn += false_negatives\n",
    "        tn += true_negatives\n",
    "        accuracy, precision, recall, f_score = \\\n",
    "            standard_tests(true_positives, false_positives, false_negatives, true_negatives)\n",
    "        print(\"{:<16} {:<9} {:<12} {:<9} {:<9}\".format(tag, accuracy, precision, recall, f_score))\n",
    "\n",
    "    accuracy, precision, recall, f_score = standard_tests(tp, fp, fn, tn)\n",
    "    print(\"{:<16} {:<9} {:<12} {:<9} {:<9}\".format(\"Overall\", accuracy, precision, recall, f_score))\n",
    "\n",
    "evaluate(tagged_seq, test_run_base)"
   ],
   "metadata": {
    "execution": {
     "iopub.status.busy": "2023-06-03T10:58:15.713259Z",
     "iopub.execute_input": "2023-06-03T10:58:15.713976Z",
     "iopub.status.idle": "2023-06-03T10:58:15.730068Z",
     "shell.execute_reply.started": "2023-06-03T10:58:15.713946Z",
     "shell.execute_reply": "2023-06-03T10:58:15.728884Z"
    },
    "trusted": true
   },
   "execution_count": 32,
   "outputs": [
    {
     "name": "stdout",
     "text": "Punctuation      Accuracy  Precision    Recall    F-score  \n.                0.874     0.067        0.167     0.095    \n:                1.000     nan          nan       nan      \n                 0.828     0.906        0.891     0.898    \n!                0.993     0.000        nan       nan      \n,                0.887     0.375        0.200     0.261    \n?                0.993     nan          0.000     nan      \n;                1.000     nan          nan       nan      \nOverall          0.939     0.788        0.788     0.788    \n",
     "output_type": "stream"
    }
   ]
  },
  {
   "cell_type": "code",
   "source": [
    "# Code to test all the test sentences\n",
    "# (takes alot of time to run s0 we won't run it here)\n",
    "# tagging the test sentences()\n",
    "test_tagged_words = [tup for sent in test_set for tup in sent]\n",
    "test_untagged_words = [tup[0] for sent in test_set for tup in sent]\n",
    "\n",
    "\n",
    "print('Starting testing')\n",
    "# start = time.time()\n",
    "tagged_seq = Viterbi(test_untagged_words)\n",
    "# end = time.time()\n",
    "# difference = end-start\n",
    "\n",
    "# print(\"Time taken in seconds: \", difference)\n"
   ],
   "metadata": {
    "pycharm": {
     "is_executing": true
    },
    "execution": {
     "iopub.status.busy": "2023-06-03T10:58:15.731292Z",
     "iopub.execute_input": "2023-06-03T10:58:15.731679Z",
     "iopub.status.idle": "2023-06-03T11:14:47.614412Z",
     "shell.execute_reply.started": "2023-06-03T10:58:15.731651Z",
     "shell.execute_reply": "2023-06-03T11:14:47.613266Z"
    },
    "trusted": true
   },
   "execution_count": 33,
   "outputs": [
    {
     "name": "stdout",
     "text": "Starting testing\n['.', ':', ' ', '!', ',', '?', ';']\n",
     "output_type": "stream"
    },
    {
     "name": "stderr",
     "text": "100%|██████████| 3268/3268 [16:31<00:00,  3.29it/s]\n",
     "output_type": "stream"
    }
   ]
  },
  {
   "cell_type": "code",
   "source": [
    "tagged_seq"
   ],
   "metadata": {
    "pycharm": {
     "is_executing": true
    },
    "execution": {
     "iopub.status.busy": "2023-06-03T11:14:47.616004Z",
     "iopub.execute_input": "2023-06-03T11:14:47.616711Z",
     "iopub.status.idle": "2023-06-03T11:14:47.681786Z",
     "shell.execute_reply.started": "2023-06-03T11:14:47.616668Z",
     "shell.execute_reply": "2023-06-03T11:14:47.680685Z"
    },
    "trusted": true
   },
   "execution_count": 34,
   "outputs": [
    {
     "execution_count": 34,
     "output_type": "execute_result",
     "data": {
      "text/plain": "[('презентація', ' '),\n ('може', ' '),\n ('бути', ' '),\n ('взагалі', ' '),\n ('без', ' '),\n ('картинок', ' '),\n ('і', ' '),\n ('виглядати', ' '),\n ('круто', ' '),\n ('якщо', ' '),\n ('доносить', ' '),\n ('ідею', ' '),\n ('її', ' '),\n ('вихід', ' '),\n ('супроводжувався', ' '),\n ('невеликим', ' '),\n ('інтерв’ю', ' '),\n ('яке', ' '),\n ('взяв', ' '),\n ('у', ' '),\n ('таяни', '.'),\n ('алан', ' '),\n ('бадоєв', '.'),\n ('відкопайте', '.'),\n ('свій', ' '),\n ('стержень', '.'),\n ('свої', ' '),\n ('цінності', ' '),\n ('принципи', ' '),\n ('ідеологію', '.'),\n ('і', ' '),\n ('не', ' '),\n ('зраджуйте', '.'),\n ('його', ' '),\n ('це', ' '),\n ('надзвичайно', ' '),\n ('важливо', ' '),\n ('і', ' '),\n ('це', ' '),\n ('те', ','),\n ('що', ' '),\n ('тримає', ' '),\n ('тебе', ' '),\n ('на', ' '),\n ('плаву', '.'),\n ('під', ' '),\n ('час', ' '),\n ('змін', ' '),\n ('в', ' '),\n ('той', ' '),\n ('час', ' '),\n ('коли', ' '),\n ('всі', ' '),\n ('ідуть', ' '),\n ('на', ' '),\n ('дно', ','),\n ('його', ' '),\n ('пояс', ' '),\n ('відсвічував', '.'),\n ('та', ' '),\n ('блищав', ' '),\n ('як', ' '),\n ('одна', ' '),\n ('частина', ' '),\n ('потім', ' '),\n ('як', ' '),\n ('інша', ' '),\n ('і', ' '),\n ('те', ','),\n ('що', ' '),\n ('було', ' '),\n ('світлом', '.'),\n ('в', ' '),\n ('один', ' '),\n ('момент', ' '),\n ('в', ' '),\n ('інший', ' '),\n ('ставало', ' '),\n ('тьмою', '.'),\n ('тож', ' '),\n ('ця', ' '),\n ('фігура', ' '),\n ('мерехтіла', '.'),\n ('у', ' '),\n ('своїй', ' '),\n ('виразності', ':'),\n ('будучи', ' '),\n (\"об'єктом\", ' '),\n ('в', ' '),\n ('один', ' '),\n ('момент', ' '),\n ('з', ' '),\n ('однією', ' '),\n ('рукою', ' '),\n ('в', ' '),\n ('інший', ' '),\n ('з', ' '),\n ('однією', ' '),\n ('ногою', '.'),\n ('потім', ' '),\n ('з', ' '),\n ('двадцятьма', ' '),\n ('ногами', ' '),\n ('а', ' '),\n ('от', ' '),\n ('вже', ' '),\n ('й', ' '),\n ('з', ' '),\n ('парою', ' '),\n ('ніг', ' '),\n ('без', ' '),\n ('голови', ' '),\n ('а', ' '),\n ('тепер', ' '),\n ('із', ' '),\n ('головою', ' '),\n ('без', ' '),\n ('тіла', ' '),\n ('і', ' '),\n ('зі', ' '),\n ('зниклих', '.'),\n ('частин', ' '),\n ('жодного', ' '),\n ('контуру', '.'),\n ('не', ' '),\n ('було', ' '),\n ('видно', ' '),\n ('в', ' '),\n ('щільній', '.'),\n ('темряві', ' '),\n ('в', ' '),\n ('якій', ' '),\n ('вони', ' '),\n ('розчинялися', '.'),\n ('а', ' '),\n ('з', ' '),\n ('приводу', ' '),\n ('ту', ' '),\n ('NUM', ' '),\n ('розбилися', ' '),\n ('гідні', ' '),\n ('колеги', ' '),\n ('геббельса', '.'),\n ('які', ' '),\n ('в', ' '),\n ('промислових', ' '),\n ('масштабах', ' '),\n ('готували', ' '),\n ('весь', ' '),\n ('той', ' '),\n ('потік', ' '),\n ('пропаганди', ' '),\n ('про', ' '),\n ('нашу', ' '),\n ('країну', ' '),\n ('включаючи', ' '),\n ('фейки', ' '),\n ('про', ' '),\n ('збитий', '.'),\n ('боїнг', '.'),\n ('ось', ' '),\n ('це', ' '),\n ('іронія', '.'),\n ('долі', ' '),\n ('кароші', ' '),\n ('строго', ' '),\n ('питав', ' '),\n ('бузковий', '.'),\n ('покупець', '.'),\n ('ти', ' '),\n ('можеш', ' '),\n ('прочитати', ' '),\n ('її', ' '),\n ('тут', ' '),\n ('біля', ' '),\n ('вікна', ' '),\n ('покінчивши', '.'),\n ('з', ' '),\n ('чоловіками', ' '),\n ('дівчата', ' '),\n ('говорять', ' '),\n ('про', ' '),\n ('любов', ' '),\n ('і', ' '),\n ('підприємців', ' '),\n ('теж', ' '),\n ('можна', ' '),\n ('зрозуміти', ' '),\n ('бо', ' '),\n ('бізнес', ' '),\n ('це', ' '),\n ('зазвичай', ' '),\n ('складно', ' '),\n ('й', ' '),\n ('витратно', '.'),\n ('перед', ' '),\n ('будинком', ' '),\n ('крокував', ' '),\n ('взад', ' '),\n ('і', ' '),\n ('вперед', ' '),\n ('перебував', ','),\n ('чоловік', ' '),\n ('з', ' '),\n ('довгими', ' '),\n ('рудими', ' '),\n ('вусами', ','),\n ('з', ' '),\n ('бляхою', '.'),\n ('поліцейського', ','),\n ('на', ' '),\n ('лацкані', ' '),\n ('пальта', ' '),\n ('у', ' '),\n ('NUM', ' '),\n ('році', ' '),\n ('більша', ' '),\n ('частина', ' '),\n ('коштів', ' '),\n ('була', ' '),\n ('поділена', '.'),\n ('між', ' '),\n ('родиною', '.'),\n ('інгрем', ','),\n ('та', ' '),\n ('страховиком', '.'),\n ('авіакомпанії', ' '),\n ('знов', ' '),\n ('мігрень', '.'),\n ('можу', ' '),\n ('запропонувати', ' '),\n ('бутерброд', ' '),\n ('почулося', ' '),\n ('знизу', ' '),\n ('ну', ','),\n ('ось', ' '),\n ('скоро', ' '),\n ('і', ' '),\n ('різдво', ','),\n ('говорив', ' '),\n ('співучо', ' '),\n ('батько', ' '),\n ('крутячи', ' '),\n ('з', ' '),\n ('темно', ' '),\n ('рудого', ' '),\n ('тютюну', ','),\n ('цигарку', ','),\n ('він', ' '),\n ('довго', ' '),\n ('та', ' '),\n ('надсадно', ' '),\n ('кашляв', ','),\n ('і', ' '),\n ('в', ' '),\n ('мокротинні', ','),\n ('було', ' '),\n ('багато', ' '),\n ('крові', ','),\n ('щороку', ' '),\n ('у', ' '),\n ('цьому', ' '),\n ('змаганні', ','),\n ('беруть', ' '),\n ('участь', ' '),\n ('команди', ' '),\n ('з', ' '),\n ('передових', ' '),\n ('дослідницьких', ' '),\n ('центрів', ','),\n ('з', ' '),\n ('усього', ' '),\n ('світу', ' '),\n ('го', ' '),\n ('…', ' '),\n ('горілку', ','),\n ('пив', ' '),\n ('візьмімо', ' '),\n ('для', ' '),\n ('прикладу', ','),\n ('послідовність', ' '),\n ('яку', ' '),\n ('треба', ' '),\n ('зберегти', ' '),\n ('чи', ' '),\n ('передати', ' '),\n ('панове', '!'),\n ('присяжні', ' '),\n ('це', ' '),\n ('чутлива', '.'),\n ('тема', ' '),\n ('у', ' '),\n ('першу', ' '),\n ('чергу', ' '),\n ('китайськими', '.'),\n ('дякую', ' '),\n ('за', ' '),\n ('дзвінок', ' '),\n ('коли', ' '),\n ('є', ' '),\n ('початковий', ' '),\n ('капітал', ' '),\n ('або', ' '),\n ('інвестиції', ' '),\n ('в', ' '),\n ('україні', ' '),\n ('ризиковані', '.'),\n ('через', ' '),\n ('валютні', '.'),\n ('коливання', '.'),\n ('актуальними', ','),\n ('стають', ' '),\n ('інвестиції', ' '),\n ('за', ' '),\n ('кордон', ','),\n ('вона', ' '),\n ('повинна', ' '),\n ('творити', ' '),\n ('мир', '.'),\n ('гармонію', ' '),\n ('рівність', ','),\n ('щастя', ' '),\n ('нейронні', ' '),\n ('мережі', ' '),\n ('є', ' '),\n ('прикладом', ' '),\n ('таких', ' '),\n ('моделей', ' '),\n ('вони', ' '),\n ('здатні', ' '),\n ('виявляти', ' '),\n ('в', ' '),\n ('даних', ' '),\n ('закономірності', ' '),\n ('котрі', ' '),\n ('не', ' '),\n ('були', ' '),\n ('наперед', ','),\n ('запрограмовані', '.'),\n ('людьми', ','),\n ('та', ' '),\n ('навіть', ' '),\n ('непомітні', ','),\n ('для', ' '),\n ('людського', ' '),\n ('ока', ' '),\n ('господар', ' '),\n ('вклонився', ','),\n ('і', ' '),\n ('коли', ' '),\n ('все', ' '),\n ('стихло', '.'),\n ('продовжував', ' '),\n ('грати', ' '),\n ('у', ' '),\n ('пліві', '.'),\n ('дощу', ' '),\n ('він', ' '),\n ('одразу', ' '),\n ('впізнав', ' '),\n ('будівлю', '.'),\n ('клініки', ' '),\n ('стравінського', ':'),\n ('ріку', ' '),\n ('та', ' '),\n ('добре', ' '),\n ('досліджений', '.'),\n ('ним', ' '),\n ('бір', '.'),\n ('на', ' '),\n ('іншому', ' '),\n ('березі', ' '),\n ('з', ' '),\n ('розрахунку', ' '),\n ('що', ' '),\n ('поле', ' '),\n ('належить', ' '),\n ('комусь', ' '),\n ('багатому', '.'),\n ('а', ' '),\n ('ми', ' '),\n ('такі', ' '),\n ('“', ' '),\n ('робін', ' '),\n ('гуди', '.'),\n ('”', ' '),\n ('відновимо', '.'),\n ('справедливість', ' '),\n ('до', ' '),\n ('речі', ','),\n ('в', ' '),\n ('україні', ' '),\n ('люди', ' '),\n ('в', ' '),\n ('основному', ' '),\n ('не', ' '),\n ('довіряють', ' '),\n ('уряду', ' '),\n ('і', ' '),\n ('державі', ' '),\n ('це', ' '),\n ('ж', ' '),\n ('теж', ' '),\n ('раціонально', ' '),\n ('тим', ' '),\n ('часом', ' '),\n ('в', ' '),\n ('україні', ' '),\n ('більша', ' '),\n ('половина', ' '),\n ('усіх', ' '),\n ('прізвищ', ' '),\n ('створена', ' '),\n ('від', ' '),\n ('фаху', ','),\n ('або', ' '),\n ('характеру', ' '),\n ('чи', ' '),\n ('вдачі', '?'),\n ('носія', '.'),\n ('та', ' '),\n ('це', ' '),\n ('і', ' '),\n ('приваблює', ' '),\n ('вісім', ' '),\n ('років', ' '),\n ('служив', ','),\n ('сільським', ' '),\n ('учителем', ' '),\n ('і', ' '),\n ('втратив', ' '),\n ('місце', ' '),\n ('через', ' '),\n ('інтриги', ','),\n ('земства', '.'),\n ('міф', ' '),\n ('#', ' '),\n ('NUM', ' '),\n ('підтверджено', ' '),\n ('бань', '.'),\n ('багато', ' '),\n ('щойно', ' '),\n ('зануришся', '.'),\n ('у', ' '),\n ('читання', ' '),\n ('чи', ' '),\n ('іншу', ' '),\n ('роботу', ' '),\n ('вже', ' '),\n ('комусь', ' '),\n ('треба', ' '),\n ('підтерти', '.'),\n ('дупцю', '.'),\n ('подати', ' '),\n ('обід', ','),\n ('чи', ' '),\n ('загасити', ' '),\n ('істерику', '.'),\n ('мої', ' '),\n ('любі', '.'),\n ('молодята', '!'),\n ('ким', ' '),\n ('ми', ' '),\n ('уявляємо', ' '),\n ('яке', ' '),\n ('буде', ' '),\n ('середовище', ' '),\n ('і', ' '),\n ('якщо', ' '),\n ('картинка', ' '),\n ('така', ' '),\n ('як', ' '),\n ('нам', ' '),\n ('хочеться', ' '),\n ('все', ' '),\n ('ок', ' '),\n ('натомість', ' '),\n ('треба', ' '),\n ('іти', ' '),\n ('на', ' '),\n ('компроміси', ' '),\n ('з', ' '),\n ('сусідами', '?'),\n ('управління', ' '),\n ('місцем', ','),\n ('власного', ' '),\n ('життя', ' '),\n ('стає', ' '),\n ('полем', '.'),\n ('для', ' '),\n ('теорії', ' '),\n ('ігор', ' '),\n ('із', ' '),\n ('багатьма', ' '),\n ('учасниками', ','),\n ('бачив', ' '),\n ('я', ' '),\n ('петра', ' '),\n ('семеновича', '.'),\n ('«', ' '),\n ('айвенго', '.'),\n ('»', ' '),\n ('«', ' '),\n ('божественна', '.'),\n ('комедія', ' '),\n ('»', '.'),\n ('«', ' '),\n ('дванадцять', ' '),\n ('стільців', ','),\n ('»', ' '),\n ('«', ' '),\n ('три', ' '),\n ('мушкетери', '.'),\n ('»', ' '),\n ('«', ' '),\n ('діти', ' '),\n ('капітана', ','),\n ('гранта', '.'),\n ('»', ' '),\n ('«', ' '),\n ('фауст', '.'),\n ('»', ' '),\n ('«', ' '),\n ('записки', ','),\n ('юного', ' '),\n ('лікаря', ','),\n ('»', ' '),\n ('«', ' '),\n ('анна', ' '),\n ('кареніна', '.'),\n ('»', ' '),\n ('повне', ' '),\n ('зібрання', ' '),\n ('пушкіна', '.'),\n ('та', ' '),\n ('навіть', ' '),\n ('казки', ' '),\n ('перро', '.'),\n ('і', ' '),\n ('братів', ' '),\n ('грімм', '.'),\n ('без', ' '),\n ('купюр', ' '),\n ('такі', ' '),\n ('акції', ' '),\n ('підкреслюють', ' '),\n ('укорінене', '.'),\n ('сприйняття', ' '),\n ('жінки', ' '),\n ('як', ' '),\n ('єдиної', ','),\n ('відповідальної', '.'),\n ('за', ' '),\n ('побут', '.'),\n ('та', ' '),\n ('хатні', '.'),\n ('обов’язки', ' '),\n ('які', ' '),\n ('в', ' '),\n ('нормі', ' '),\n ('мають', ' '),\n ('бути', ' '),\n ('розподілені', '.'),\n ('між', ' '),\n ('усіма', ' '),\n ('членами', ' '),\n ('сім’ї', ' '),\n ('чи', ' '),\n ('співмешканцями', '.'),\n ('гм', ' '),\n ('сказав', ' '),\n ('він', ' '),\n ('начебто', ' '),\n ('не', ' '),\n ('усвідомлюючи', '.'),\n ('завдання', ' '),\n ('каже', ' '),\n ('яша', ' '),\n ('прислухаючись', '.'),\n ('дослідницька', ' '),\n ('агенція', '.'),\n ('з', ' '),\n ('якою', ' '),\n ('ми', ' '),\n ('співпрацювали', ' '),\n ('показала', ' '),\n ('кілька', ' '),\n ('кейсів', '.'),\n ('інших', ' '),\n ('фінансових', ' '),\n ('інститутів', '.'),\n ('які', ' '),\n ('теж', ' '),\n ('робили', ' '),\n ('ребрендинг', ','),\n ('за', ' '),\n ('останні', ' '),\n ('кілька', ' '),\n ('років', ' '),\n ('найбільш', ' '),\n ('одинокою', '.'),\n ('у', ' '),\n ('всьому', ' '),\n ('світі', ' '),\n ('є', ' '),\n ('душа', ' '),\n ('коли', ' '),\n ('вона', ' '),\n ('готується', ' '),\n ('до', ' '),\n ('містичної', '.'),\n ('далекої', '.'),\n ('подорожі', ' '),\n ('очевидне', ' '),\n ('вирішення', ' '),\n ('проблеми', ' '),\n ('тільки', ' '),\n ('погіршило', '.'),\n ('ситуацію', ' '),\n ('так', ' '),\n ('у', ' '),\n ('першій', ' '),\n ('з', ' '),\n ('них', ' '),\n ('сказано', ' '),\n ('що', ' '),\n ('людина', ' '),\n ('ця', ' '),\n ('була', ' '),\n ('маленька', ' '),\n ('на', ' '),\n ('зріст', ','),\n ('зуби', ' '),\n ('мала', ' '),\n ('золоті', ' '),\n ('і', ' '),\n ('кульгала', '.'),\n ('на', ' '),\n ('праву', ' '),\n ('ногу', ' '),\n ('цікавим', ' '),\n ('також', ' '),\n ('є', ' '),\n ('те', ','),\n ('що', ' '),\n ('NUM', ' '),\n ('%', ' '),\n ('висловили', '.'),\n ('загальну', ' '),\n ('недовіру', ','),\n ('церквам', '.'),\n ('проте', ' '),\n ('лише', ' '),\n ('NUM', ' '),\n ('%', ' '),\n ('визначились', '.'),\n ('із', ' '),\n ('тим', ' '),\n ('що', ' '),\n ('взагалі', ' '),\n ('не', ' '),\n ('змогли', ' '),\n ('знайти', ' '),\n ('конкретної', ' '),\n ('церкви', ' '),\n ('якій', ' '),\n ('довіряють', ' '),\n ('c(', ' '),\n ('норвегія', ' '),\n ('фінляндія', ' '),\n ('=', ' '),\n ('NUM', ' '),\n ('справді', ' '),\n ('буду', ' '),\n ('рада', ' '),\n ('почути', ' '),\n ('якщо', ' '),\n ('західна', '.'),\n ('україна', ' '),\n ('гордовито', ' '),\n ('думає', ','),\n ('що', ' '),\n ('вона', ' '),\n ('розмовляє', ' '),\n ('українською', ' '),\n ('то', ' '),\n ('це', ' '),\n ('самодурство', '.'),\n ('варто', ' '),\n ('лише', ' '),\n ('послухати', ' '),\n ('розмови', ' '),\n ('у', ' '),\n ('громадському', ' '),\n ('транспорті', ' '),\n ('я', ' '),\n ('нині', ' '),\n ('займалася', ' '),\n ('стіркою', '.'),\n ('діти', ' '),\n ('випили', ' '),\n ('після', ' '),\n ('неї', ' '),\n ('нічого', ' '),\n ('нічого', ' '),\n ('нічого', ' '),\n ('шепотів', ' '),\n (\"коров'єв\", ','),\n ('кружляючи', '.'),\n ('біля', ' '),\n ('майстра', ','),\n ('нічого', ' '),\n ('нічого', ' '),\n ('дорогий', ' '),\n ('лікарю', ','),\n ('сказав', ' '),\n ('найт', ' '),\n ('трохи', ' '),\n ('глузливо', '.'),\n ('що', ' '),\n ('з', ' '),\n ('тобою', ' '),\n ('запитав', ' '),\n ('альмер', '.'),\n ('дивлячись', ' '),\n ('на', ' '),\n ('нього', ' '),\n ('з', ' '),\n ('подивом', ' '),\n ('бачиш', ' '),\n ('захід', ' '),\n ('це', ' '),\n ('досить', ' '),\n ('велика', ' '),\n ('пропозиція', ','),\n ('і', ' '),\n ('я', ' '),\n ('продовжував', ' '),\n ('досить', ' '),\n ('жваво', ' '),\n ('штовхатися', '.'),\n ('навколо', ' '),\n ('я', ' '),\n ('була', ' '),\n ('дурна', ','),\n ('тоді', ' '),\n ('тому', ' '),\n ('що', ' '),\n ('NUM', ' '),\n ('сказав', ' '),\n ('він', ' '),\n ('NUM', ' '),\n ('у', ' '),\n ('розрахунку', ' '),\n ('точки', ' '),\n ('на', ' '),\n ('річці', ','),\n ('де', ' '),\n ('твоя', ' '),\n ('лінія', ' '),\n ('могла', ' '),\n ('б', ' '),\n ('нехтувати', ' '),\n ('вашою', ' '),\n ('похибкою', ' '),\n ('щоб', ' '),\n ('дозволити', ' '),\n ('відхилення', ','),\n ('ніч', ' '),\n ('швидко', ' '),\n ('спадає', ' '),\n ('і', ' '),\n ('це', ' '),\n ('для', ' '),\n ('мене', ' '),\n ('дорогоцінний', ' '),\n ('час', ' '),\n ('я', ' '),\n ('знаю', ','),\n ('так', ' '),\n ('що', ' '),\n ('ж', ' '),\n ('робити', ' '),\n ('побувавши', ' '),\n ('в', ' '),\n ('місці', ' '),\n ('куди', ' '),\n ('дуже', ' '),\n ('давно', ' '),\n ('не', ' '),\n ('приїздив', ' '),\n (\"з'явилося\", ' '),\n ('кілька', ' '),\n ('думок', ' '),\n ('під', ' '),\n ('час', ' '),\n ('цих', ' '),\n ('NUM', ' '),\n ('NUM', ' '),\n ('годин', ' '),\n ('бігу', ','),\n ('15-го', '.'),\n ('травня', ' '),\n ('в', ' '),\n ('голові', ' '),\n ('були', ' '),\n ('різні', ' '),\n ('думки', ' '),\n ('мине', '.'),\n ('час', ' '),\n ('мине', '.'),\n ('і', ' '),\n ('горе', ','),\n ('кирилове', '.'),\n ('але', ' '),\n ('це', ' '),\n ('переконання', ' '),\n ('несправедливе', ','),\n ('негідне', ' '),\n ('людського', ' '),\n ('серця', ' '),\n ('не', ' '),\n ('мине', '.'),\n ('і', ' '),\n ('залишиться', ' '),\n ('в', ' '),\n ('розумі', ';'),\n ('лікаря', ' '),\n ('до', ' '),\n ('самої', ' '),\n ('могили', '!'),\n ('протягом', ' '),\n ('решти', ' '),\n ('життя', ' '),\n ('він', ' '),\n ('був', ' '),\n ('злим', ','),\n ('маленьким', ' '),\n ('старим', ' '),\n ('чоловіком', ' '),\n ('який', ' '),\n ('сильно', ' '),\n ('скаржився', '.'),\n ('на', ' '),\n (\"м'якість\", ' '),\n ('інших', ' '),\n ('людей', ' '),\n ('і', ' '),\n ('які', ' '),\n ('розглядали', ' '),\n ('себе', ' '),\n ('як', ' '),\n ('спеціалісти', ' '),\n ('в', ' '),\n ('чеканні', '.'),\n ('щоб', ' '),\n ('захистити', ' '),\n ('NUM', ' '),\n ('молодих', ' '),\n ('художників', ' '),\n ('у', ' '),\n ('студії', ' '),\n ('вище', ' '),\n ('а', ' '),\n ('ще', ' '),\n ('один', ' '),\n ('артефакт', ','),\n ('який', ' '),\n ('випливає', '.'),\n ('при', ' '),\n ('цьому', ' '),\n ('на', ' '),\n ('поверхню', '.'),\n ('неможливість', ' '),\n ('будувати', ' '),\n ('плани', ' '),\n ('на', ' '),\n ('майбутнє', ' '),\n ('і', ' '),\n ('одного', ' '),\n ('кріплення', ' '),\n ('для', ' '),\n ('хаябуси', '.'),\n ('вистачить', ' '),\n ('щоб', ' '),\n ('на', ' '),\n ('ці', ' '),\n ('гроші', ' '),\n ('годувати', '.'),\n ('їх', ' '),\n ('цілий', ' '),\n ('місяць', ' '),\n ('у', ' '),\n ('мене', ' '),\n ('було', ' '),\n ('найкрутіше', ' '),\n ('робоче', ' '),\n ('місце', ' '),\n ('кавомашина', '.'),\n ('три', ' '),\n ('вітрини', '.'),\n ('зі', ' '),\n ('смачненьким', '.'),\n ('і', ' '),\n ('комп’ютер', ' '),\n ('звичайно', ','),\n ('є', ' '),\n ('необхідні', ' '),\n ('буденні', ' '),\n ('справи', ' '),\n ('але', ' '),\n ('іноді', ' '),\n ('можна', ' '),\n ('дозволити', ' '),\n ('собі', ' '),\n ('бути', ' '),\n ('дитиною', ','),\n ('зробити', ' '),\n ('якийсь', ' '),\n ('шалений', ' '),\n ('вчинок', ' '),\n ('влаштувати', ' '),\n ('собі', ' '),\n ('вихідний', ' '),\n ('перефарбуватись', '.'),\n ('у', ' '),\n ('дивний', ' '),\n ('колір', ' '),\n ('з', ' '),\n ('перших', ' '),\n ('“', ' '),\n ('кроків', ' '),\n ('”', ' '),\n ('віртуального', '.'),\n ('туру', '.'),\n ('я', ' '),\n ('була', ' '),\n ('неприємно', '.'),\n ('вражена', '.'),\n ('станом', ' '),\n ('будівлі', ' '),\n ('двоє', ' '),\n ('чоловіків', ' '),\n ('вийшли', ' '),\n ('на', ' '),\n ('вулицю', ' '),\n ('і', ' '),\n ('йшли', ' '),\n ('рука', ' '),\n ('в', ' '),\n ('руку', ' '),\n ('за', ' '),\n ('його', ' '),\n ('ходою', ' '),\n ('видно', ' '),\n ('було', ' '),\n ('що', ' '),\n ('погодився', ' '),\n ('він', ' '),\n ('іти', ' '),\n ('колоти', ' '),\n ('дрова', ' '),\n ('не', ' '),\n ('тому', ' '),\n ('що', ' '),\n ('був', ' '),\n ('голодний', ','),\n ('і', ' '),\n ('хотів', ' '),\n ('заробити', ' '),\n ('а', ' '),\n ('просто', ' '),\n ('з', ' '),\n ('самолюбства', ' '),\n ('і', ' '),\n ('сорому', ' '),\n ('як', ' '),\n ('спійманий', ' '),\n ('на', ' '),\n ('слові', ' '),\n ('ага', ','),\n ('теорія', ' '),\n ('сьогодні', ' '),\n ('«', ' '),\n ('сліпа', ' '),\n ('»', '.'),\n ('за', ' '),\n ('визначенням', ','),\n ('експрезидента', '.'),\n ('потім', ' '),\n ('він', ' '),\n ('повернувся', ' '),\n ('до', ' '),\n ('мене', ' '),\n ('злегка', ' '),\n ('посміхаючись', ','),\n ('і', ' '),\n ('ми', ' '),\n ('продовжили', ' '),\n ('нашу', ' '),\n ...]"
     },
     "metadata": {}
    }
   ]
  },
  {
   "cell_type": "code",
   "source": [
    "# accuracy\n",
    "check = [i for i, j in zip(tagged_seq, test_tagged_words) if i == j]\n",
    "\n",
    "accuracy = len(check) / len(tagged_seq)\n",
    "print('Viterbi Algorithm Accuracy: ', accuracy * 100)"
   ],
   "metadata": {
    "pycharm": {
     "is_executing": true
    },
    "execution": {
     "iopub.status.busy": "2023-06-03T11:14:47.683554Z",
     "iopub.execute_input": "2023-06-03T11:14:47.684279Z",
     "iopub.status.idle": "2023-06-03T11:14:47.692592Z",
     "shell.execute_reply.started": "2023-06-03T11:14:47.684237Z",
     "shell.execute_reply": "2023-06-03T11:14:47.691306Z"
    },
    "trusted": true
   },
   "execution_count": 35,
   "outputs": [
    {
     "name": "stdout",
     "text": "Viterbi Algorithm Accuracy:  74.66340269277846\n",
     "output_type": "stream"
    }
   ]
  },
  {
   "cell_type": "code",
   "source": [
    "evaluate(tagged_seq, test_tagged_words)"
   ],
   "metadata": {
    "pycharm": {
     "is_executing": true
    },
    "execution": {
     "iopub.status.busy": "2023-06-03T11:14:47.694085Z",
     "iopub.execute_input": "2023-06-03T11:14:47.694541Z",
     "iopub.status.idle": "2023-06-03T11:14:47.731386Z",
     "shell.execute_reply.started": "2023-06-03T11:14:47.694508Z",
     "shell.execute_reply": "2023-06-03T11:14:47.730183Z"
    },
    "trusted": true
   },
   "execution_count": 36,
   "outputs": [
    {
     "name": "stdout",
     "text": "Punctuation      Accuracy  Precision    Recall    F-score  \n.                0.856     0.152        0.284     0.198    \n:                0.996     0.200        0.091     0.125    \n                 0.780     0.856        0.874     0.865    \n!                0.993     0.500        0.136     0.214    \n,                0.876     0.440        0.212     0.286    \n?                0.992     0.000        0.000     nan      \n;                0.999     0.000        0.000     nan      \nOverall          0.928     0.747        0.747     0.747    \n",
     "output_type": "stream"
    }
   ]
  },
  {
   "cell_type": "code",
   "source": [
    "comma_before = {'щоб', 'що', 'але', 'а', 'яке', 'який', 'яка', 'які', 'котра', 'котрий', 'котре', 'котрі', 'або', 'бо', 'то', 'ласка'}\n",
    "comma_before_and_after = {'можливо', 'може', 'здається'}\n",
    "\n",
    "def Viterbi_rule_based(words, train_bag = train_tagged_words):\n",
    "    state = []\n",
    "    T = list(set([pair[1] for pair in train_bag]))\n",
    "     \n",
    "    for key, word in enumerate(tqdm(words)):\n",
    "        # initialise list of probability column for a given observation\n",
    "        p = [] \n",
    "        for tag in T:\n",
    "            if key == 0:\n",
    "                transition_p = tags_df.loc['.', tag] + tags_df.loc['!', tag] + tags_df.loc['?', tag] + tags_df.loc[';', tag]\n",
    "            else:\n",
    "                transition_p = tags_df.loc[state[-1], tag]\n",
    "                 \n",
    "            # compute emission and state probabilities\n",
    "            count_word_tag, count_tag = word_given_tag(word, tag)\n",
    "            emission_p = count_word_tag / count_tag\n",
    "            state_probability = emission_p * transition_p    \n",
    "            p.append(state_probability)\n",
    "             \n",
    "        pmax = max(p)\n",
    "        state_max = T[p.index(pmax)]\n",
    "        \n",
    "        if state_max == ' ': # if we predicted space, use rule-based prediction based on the general rules of Ukrainian language\n",
    "            if words[key + 1] in comma_before or words[key + 1] in comma_before_and_after:\n",
    "                state_max = ','\n",
    "            elif word in comma_before_and_after:\n",
    "                state_max = ','\n",
    "         \n",
    "        state.append(state_max)\n",
    "    return list(zip(words, state))"
   ],
   "metadata": {
    "pycharm": {
     "is_executing": true
    },
    "execution": {
     "iopub.status.busy": "2023-06-03T11:14:47.733458Z",
     "iopub.execute_input": "2023-06-03T11:14:47.733916Z",
     "iopub.status.idle": "2023-06-03T11:14:47.747599Z",
     "shell.execute_reply.started": "2023-06-03T11:14:47.733875Z",
     "shell.execute_reply": "2023-06-03T11:14:47.746360Z"
    },
    "trusted": true
   },
   "execution_count": 37,
   "outputs": []
  },
  {
   "cell_type": "code",
   "source": [
    "tagged_seq = Viterbi_rule_based(test_untagged_words)"
   ],
   "metadata": {
    "execution": {
     "iopub.status.busy": "2023-06-03T11:14:47.749410Z",
     "iopub.execute_input": "2023-06-03T11:14:47.749790Z",
     "iopub.status.idle": "2023-06-03T11:31:19.451519Z",
     "shell.execute_reply.started": "2023-06-03T11:14:47.749759Z",
     "shell.execute_reply": "2023-06-03T11:31:19.450130Z"
    },
    "trusted": true
   },
   "execution_count": 38,
   "outputs": [
    {
     "name": "stderr",
     "text": "100%|██████████| 3268/3268 [16:31<00:00,  3.30it/s]\n",
     "output_type": "stream"
    }
   ]
  },
  {
   "cell_type": "code",
   "source": [
    "check = [i for i, j in zip(tagged_seq, test_tagged_words) if i == j]\n",
    "\n",
    "accuracy = len(check) / len(tagged_seq)\n",
    "print('Viterbi Algorithm Accuracy: ', accuracy * 100)"
   ],
   "metadata": {
    "execution": {
     "iopub.status.busy": "2023-06-03T11:31:19.453132Z",
     "iopub.execute_input": "2023-06-03T11:31:19.453499Z",
     "iopub.status.idle": "2023-06-03T11:31:19.461458Z",
     "shell.execute_reply.started": "2023-06-03T11:31:19.453468Z",
     "shell.execute_reply": "2023-06-03T11:31:19.460263Z"
    },
    "trusted": true
   },
   "execution_count": 39,
   "outputs": [
    {
     "name": "stdout",
     "text": "Viterbi Algorithm Accuracy:  75.9485924112607\n",
     "output_type": "stream"
    }
   ]
  },
  {
   "cell_type": "code",
   "source": [
    "evaluate(tagged_seq, test_tagged_words)"
   ],
   "metadata": {
    "execution": {
     "iopub.status.busy": "2023-06-03T11:31:19.466303Z",
     "iopub.execute_input": "2023-06-03T11:31:19.466787Z",
     "iopub.status.idle": "2023-06-03T11:31:19.495612Z",
     "shell.execute_reply.started": "2023-06-03T11:31:19.466752Z",
     "shell.execute_reply": "2023-06-03T11:31:19.494376Z"
    },
    "trusted": true
   },
   "execution_count": 40,
   "outputs": [
    {
     "name": "stdout",
     "text": "Punctuation      Accuracy  Precision    Recall    F-score  \n.                0.856     0.152        0.284     0.198    \n:                0.996     0.200        0.091     0.125    \n                 0.795     0.878        0.865     0.872    \n!                0.993     0.500        0.136     0.214    \n,                0.887     0.523        0.380     0.440    \n?                0.992     0.000        0.000     nan      \n;                0.999     0.000        0.000     nan      \nOverall          0.931     0.759        0.759     0.759    \n",
     "output_type": "stream"
    }
   ]
  },
  {
   "cell_type": "code",
   "source": [],
   "metadata": {},
   "execution_count": null,
   "outputs": []
  }
 ]
}
