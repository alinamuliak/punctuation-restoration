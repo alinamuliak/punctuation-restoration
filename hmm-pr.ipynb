{
 "cells": [
  {
   "cell_type": "code",
   "execution_count": 1,
   "metadata": {
    "collapsed": true
   },
   "outputs": [],
   "source": [
    "import nltk\n",
    "import numpy as np\n",
    "import pandas as pd\n",
    "import random\n",
    "from sklearn.model_selection import train_test_split\n",
    "import pprint, time"
   ]
  },
  {
   "cell_type": "markdown",
   "source": [
    "# Preprocessing of data\n",
    "\n",
    "Here I will aim to form an array of arrays of tuples with each word and the following punctuation mark.\n",
    "\n",
    "Example of single sentence:\n",
    "[('I', ' '),\n",
    "('love', ' '),\n",
    "('kittens', ','),\n",
    "('and', ' ').\n",
    "('you', '?')]"
   ],
   "metadata": {
    "collapsed": false
   }
  },
  {
   "cell_type": "code",
   "execution_count": 2,
   "outputs": [],
   "source": [
    "from os import listdir\n",
    "from os.path import isfile, join\n",
    "\n",
    "datapath = 'target-sentences-tokenized'\n",
    "onlyfiles = [join(datapath, f) for f in listdir(datapath) if isfile(join(datapath, f))]"
   ],
   "metadata": {
    "collapsed": false
   }
  },
  {
   "cell_type": "code",
   "execution_count": 3,
   "outputs": [],
   "source": [
    "data = []\n",
    "punctuations = {',', '.', '!', '?'}\n",
    "ignore = {'\"', \"'\", '-', '–', '—', ':', ';'}\n",
    "for file in onlyfiles:\n",
    "    with open(file, 'r') as f:\n",
    "        lines = f.readlines()\n",
    "    for l in lines:\n",
    "        words = l.split()\n",
    "        curr_sent = []\n",
    "        i = 0\n",
    "        while i < len(words) - 1:\n",
    "            current_pair = [words[i].lower()]\n",
    "            if words[i].isnumeric():\n",
    "                current_pair = ['NUM']\n",
    "            if words[i] in ignore:\n",
    "                i += 1\n",
    "                continue\n",
    "            if words[i + 1] in punctuations:\n",
    "                current_pair.append(words[i + 1])\n",
    "                i += 1\n",
    "            elif words[i + 1] in ignore:\n",
    "                current_pair.append(' ')\n",
    "                i += 1\n",
    "            else:\n",
    "                current_pair.append(' ')\n",
    "            curr_sent.append(tuple(current_pair))\n",
    "            i += 1\n",
    "        data.append(curr_sent)"
   ],
   "metadata": {
    "collapsed": false
   }
  },
  {
   "cell_type": "code",
   "execution_count": 4,
   "outputs": [
    {
     "data": {
      "text/plain": "[[('я', ' '),\n  ('високий', ','),\n  ('з', ' '),\n  ('чорною', ' '),\n  ('бородою', ' '),\n  ('й', ' '),\n  ('ненавиджу', ' '),\n  ('публічність', '.')],\n [('я', ' '),\n  ('не', ' '),\n  ('маю', ' '),\n  ('взагалі', ' '),\n  ('грошей', ','),\n  ('не', ' '),\n  ('люблю', ' '),\n  ('вівсянку', ','),\n  ('а', ' '),\n  ('єдине', ' '),\n  ('прагнення', ' '),\n  ('мого', ' '),\n  ('життя', ' '),\n  ('померти', ' '),\n  ('в', ' '),\n  ('достатку', '.')],\n [('ставлення', ' '),\n  ('до', ' '),\n  ('інших', ' '),\n  ('холодне', ' '),\n  ('й', ' '),\n  ('безсердечне', '.')],\n [('я', ' '),\n  ('не', ' '),\n  ('піклуюсь', ' '),\n  ('про', ' '),\n  ('моїх', ' '),\n  ('колег', ','),\n  ('а', ' '),\n  ('також', ' '),\n  ('я', ' '),\n  ('ще', ' '),\n  ('не', ' '),\n  ('дав', ' '),\n  ('жодної', ' '),\n  ('копійки', ' '),\n  ('жебраку', ' '),\n  ('чи', ' '),\n  ('на', ' '),\n  ('милостиню', '.')],\n [('що', ' '),\n  ('ж', ','),\n  ('мій', ' '),\n  ('любий', ' '),\n  ('лікарю', ','),\n  ('се', ' '),\n  ('справжній', ' '),\n  ('опис', ' '),\n  ('мене', ','),\n  ('людини', ','),\n  ('за', ' '),\n  ('якою', ' '),\n  ('полював', ' '),\n  ('той', ' '),\n  ('детектив', '.')],\n [('ви', ','),\n  ('знайомі', ' '),\n  ('зі', ' '),\n  ('нещодавнім', ' '),\n  ('дієписом', ' '),\n  ('злочинів', ' '),\n  ('у', ' '),\n  ('нью-йорку', ','),\n  ('повинні', ' '),\n  ('передбачити', ' '),\n  ('наслідок', '.')],\n [('коли', ' '),\n  ('я', ' '),\n  ('пообіцяв', ' '),\n  ('вам', ' '),\n  ('показати', ' '),\n  ('вашому', ' '),\n  ('надзвичайному', ' '),\n  ('зору', ' '),\n  ('того', ','),\n  ('хто', ' '),\n  ('переслідував', ' '),\n  ('мене', ','),\n  ('ви', ' '),\n  ('були', ' '),\n  ('засміялись', ' '),\n  ('з', ' '),\n  ('мене', ','),\n  ('бо', ' '),\n  ('сказали', ','),\n  ('що', ' '),\n  ('слідці', ' '),\n  ('й', ' '),\n  ('убивці', ' '),\n  ('ніколи', ' '),\n  ('не', ' '),\n  ('зустрічаються', ' '),\n  ('одне', ' '),\n  ('з', ' '),\n  ('одним', ' '),\n  ('в', ' '),\n  ('нью-йорку', '.')],\n [('я', ' '),\n  ('ж', ' '),\n  ('вам', ' '),\n  ('показав', ','),\n  ('що', ' '),\n  ('се', ' '),\n  ('таки', ' '),\n  ('можливо', '.')],\n [('він', ' '),\n  ('не', ' '),\n  ('намагався', ' '),\n  ('заснути', ','),\n  ('а', ' '),\n  ('сидів', ' '),\n  ('у', ' '),\n  ('ліжку', ','),\n  ('обнявши', ' '),\n  ('руками', ' '),\n  ('коліна', ','),\n  ('і', ' '),\n  ('думав', '.')],\n [('думка', ' '),\n  ('про', ' '),\n  ('іспит', ' '),\n  ('була', ' '),\n  ('йому', ' '),\n  ('противна', '.')]]"
     },
     "execution_count": 4,
     "metadata": {},
     "output_type": "execute_result"
    }
   ],
   "source": [
    "data[:10]"
   ],
   "metadata": {
    "collapsed": false
   }
  },
  {
   "cell_type": "code",
   "execution_count": 5,
   "outputs": [
    {
     "data": {
      "text/plain": "29760"
     },
     "execution_count": 5,
     "metadata": {},
     "output_type": "execute_result"
    }
   ],
   "source": [
    "len(data)"
   ],
   "metadata": {
    "collapsed": false
   }
  },
  {
   "cell_type": "markdown",
   "source": [
    "---------------"
   ],
   "metadata": {
    "collapsed": false
   }
  },
  {
   "cell_type": "code",
   "execution_count": 6,
   "outputs": [
    {
     "name": "stdout",
     "output_type": "stream",
     "text": [
      "318802\n",
      "3374\n"
     ]
    }
   ],
   "source": [
    "# split data into training and validation set in the ratio 90:10\n",
    "train_set, test_set = train_test_split(data, train_size=0.9, test_size=0.009, random_state=101)\n",
    "\n",
    "# create list of train and test tagged words\n",
    "train_tagged_words = [tup for sent in train_set for tup in sent]\n",
    "test_tagged_words = [tup for sent in test_set for tup in sent]\n",
    "print(len(train_tagged_words))\n",
    "print(len(test_tagged_words))"
   ],
   "metadata": {
    "collapsed": false
   }
  },
  {
   "cell_type": "code",
   "execution_count": 7,
   "outputs": [
    {
     "data": {
      "text/plain": "[('усі', ' '),\n ('канали', ','),\n ('звичайно', ','),\n ('працюють', ' '),\n ('один', ' ')]"
     },
     "execution_count": 7,
     "metadata": {},
     "output_type": "execute_result"
    }
   ],
   "source": [
    "# check some tagged words.\n",
    "train_tagged_words[:5]"
   ],
   "metadata": {
    "collapsed": false
   }
  },
  {
   "cell_type": "code",
   "execution_count": 8,
   "outputs": [
    {
     "name": "stdout",
     "output_type": "stream",
     "text": [
      "5\n",
      "{'.', '!', ' ', '?', ','}\n"
     ]
    }
   ],
   "source": [
    "#use set datatype to check how many unique tags are present in training data\n",
    "tags = {tag for word, tag in train_tagged_words}\n",
    "print(len(tags))\n",
    "print(tags)\n",
    "\n",
    "# check total words in vocabulary\n",
    "vocab = {word for word, tag in train_tagged_words}"
   ],
   "metadata": {
    "collapsed": false
   }
  },
  {
   "cell_type": "code",
   "execution_count": 9,
   "outputs": [
    {
     "name": "stdout",
     "output_type": "stream",
     "text": [
      "[[0.03020698 0.01171781 0.85314316 0.00581088 0.09907314]\n",
      " [0.03418367 0.01479592 0.85510206 0.00255102 0.09336735]\n",
      " [0.07576954 0.00568155 0.7938994  0.00723846 0.11741104]\n",
      " [0.0250118  0.01179802 0.85983956 0.00707881 0.09627183]\n",
      " [0.01428732 0.0054628  0.8951143  0.00305356 0.08208203]]\n"
     ]
    }
   ],
   "source": [
    "# compute Emission Probability\n",
    "def word_given_tag(word, tag, train_bag = train_tagged_words):\n",
    "    tag_list = [pair for pair in train_bag if pair[1]==tag]\n",
    "    count_tag = len(tag_list)#total number of times the passed tag occurred in train_bag\n",
    "    w_given_tag_list = [pair[0] for pair in tag_list if pair[0]==word]\n",
    "#now calculate the total number of times the passed word occurred as the passed tag.\n",
    "    count_w_given_tag = len(w_given_tag_list)\n",
    "\n",
    "\n",
    "    return (count_w_given_tag, count_tag)\n",
    "\n",
    "# compute  Transition Probability\n",
    "def t2_given_t1(t2, t1, train_bag=train_tagged_words):\n",
    "    tags = [pair[1] for pair in train_bag]\n",
    "    count_t1 = len([t for t in tags if t==t1])\n",
    "    count_t2_t1 = 0\n",
    "    for index in range(len(tags)-1):\n",
    "        if tags[index]==t1 and tags[index+1] == t2:\n",
    "            count_t2_t1 += 1\n",
    "    return (count_t2_t1, count_t1)\n",
    "\n",
    "# creating t x t transition matrix of tags, t= no of tags\n",
    "# Matrix(i, j) represents P(jth tag after the ith tag)\n",
    "\n",
    "tags_matrix = np.zeros((len(tags), len(tags)), dtype='float32')\n",
    "for i, t1 in enumerate(list(tags)):\n",
    "    for j, t2 in enumerate(list(tags)):\n",
    "        tags_matrix[i, j] = t2_given_t1(t2, t1)[0]/t2_given_t1(t2, t1)[1]\n",
    "\n",
    "print(tags_matrix)"
   ],
   "metadata": {
    "collapsed": false
   }
  },
  {
   "cell_type": "code",
   "execution_count": 10,
   "outputs": [
    {
     "data": {
      "text/plain": "          .         !                   ?         ,\n.  0.030207  0.011718  0.853143  0.005811  0.099073\n!  0.034184  0.014796  0.855102  0.002551  0.093367\n   0.075770  0.005682  0.793899  0.007238  0.117411\n?  0.025012  0.011798  0.859840  0.007079  0.096272\n,  0.014287  0.005463  0.895114  0.003054  0.082082",
      "text/html": "<div>\n<style scoped>\n    .dataframe tbody tr th:only-of-type {\n        vertical-align: middle;\n    }\n\n    .dataframe tbody tr th {\n        vertical-align: top;\n    }\n\n    .dataframe thead th {\n        text-align: right;\n    }\n</style>\n<table border=\"1\" class=\"dataframe\">\n  <thead>\n    <tr style=\"text-align: right;\">\n      <th></th>\n      <th>.</th>\n      <th>!</th>\n      <th></th>\n      <th>?</th>\n      <th>,</th>\n    </tr>\n  </thead>\n  <tbody>\n    <tr>\n      <th>.</th>\n      <td>0.030207</td>\n      <td>0.011718</td>\n      <td>0.853143</td>\n      <td>0.005811</td>\n      <td>0.099073</td>\n    </tr>\n    <tr>\n      <th>!</th>\n      <td>0.034184</td>\n      <td>0.014796</td>\n      <td>0.855102</td>\n      <td>0.002551</td>\n      <td>0.093367</td>\n    </tr>\n    <tr>\n      <th></th>\n      <td>0.075770</td>\n      <td>0.005682</td>\n      <td>0.793899</td>\n      <td>0.007238</td>\n      <td>0.117411</td>\n    </tr>\n    <tr>\n      <th>?</th>\n      <td>0.025012</td>\n      <td>0.011798</td>\n      <td>0.859840</td>\n      <td>0.007079</td>\n      <td>0.096272</td>\n    </tr>\n    <tr>\n      <th>,</th>\n      <td>0.014287</td>\n      <td>0.005463</td>\n      <td>0.895114</td>\n      <td>0.003054</td>\n      <td>0.082082</td>\n    </tr>\n  </tbody>\n</table>\n</div>"
     },
     "metadata": {},
     "output_type": "display_data"
    }
   ],
   "source": [
    "# convert the matrix to a df for better readability\n",
    "# the table is same as the transition table shown in section 3 of article\n",
    "tags_df = pd.DataFrame(tags_matrix, columns=list(tags), index=list(tags))\n",
    "display(tags_df)"
   ],
   "metadata": {
    "collapsed": false
   }
  },
  {
   "cell_type": "code",
   "execution_count": 11,
   "outputs": [],
   "source": [
    "from tqdm import tqdm\n",
    "\n",
    "\n",
    "def Viterbi(words, train_bag=train_tagged_words):\n",
    "    state = []\n",
    "    T = list(set([pair[1] for pair in train_bag]))\n",
    "\n",
    "    for key, word in enumerate(tqdm(words)):\n",
    "        # initialise list of probability column for a given observation\n",
    "        p = []\n",
    "        for tag in T:\n",
    "            if key == 0:\n",
    "                transition_p = tags_df.loc['.', tag] + tags_df.loc['?', tag] + tags_df.loc['!', tag]\n",
    "            else:\n",
    "                transition_p = tags_df.loc[state[-1], tag]\n",
    "\n",
    "            # compute emission and state probabilities\n",
    "            emission_p = word_given_tag(words[key], tag)[0]/word_given_tag(words[key], tag)[1]\n",
    "            state_probability = emission_p * transition_p\n",
    "            p.append(state_probability)\n",
    "\n",
    "        pmax = max(p)\n",
    "        # getting state for which probability is maximum\n",
    "        state_max = T[p.index(pmax)]\n",
    "        state.append(state_max)\n",
    "    return list(zip(words, state))\n"
   ],
   "metadata": {
    "collapsed": false
   }
  },
  {
   "cell_type": "code",
   "execution_count": 12,
   "outputs": [
    {
     "name": "stderr",
     "output_type": "stream",
     "text": [
      "100%|██████████| 116/116 [00:13<00:00,  8.59it/s]"
     ]
    },
    {
     "name": "stdout",
     "output_type": "stream",
     "text": [
      "Time taken in seconds:  13.537312030792236\n",
      "Viterbi Algorithm Accuracy:  71.55172413793103\n"
     ]
    },
    {
     "name": "stderr",
     "output_type": "stream",
     "text": [
      "\n"
     ]
    }
   ],
   "source": [
    "# Let's test our Viterbi algorithm on a few sample sentences of test dataset\n",
    "random.seed(1234)      #define a random seed to get same sentences when run multiple times\n",
    "\n",
    "# choose random 10 numbers\n",
    "rndom = [random.randint(1, len(test_set)) for x in range(10)]\n",
    "\n",
    "# list of 10 sents on which we test the model\n",
    "test_run = [test_set[i] for i in rndom]\n",
    "\n",
    "# list of tagged words\n",
    "test_run_base = [tup for sent in test_run for tup in sent]\n",
    "\n",
    "# list of untagged words\n",
    "test_tagged_words = [tup[0] for sent in test_run for tup in sent]\n",
    "\n",
    "# Here We will only test 10 sentences to check the accuracy\n",
    "# as testing the whole training set takes huge amount of time\n",
    "start = time.time()\n",
    "tagged_seq = Viterbi(test_tagged_words)\n",
    "end = time.time()\n",
    "difference = end-start\n",
    "\n",
    "print(\"Time taken in seconds: \", difference)\n",
    "\n",
    "# accuracy\n",
    "check = [i for i, j in zip(tagged_seq, test_run_base) if i == j]\n",
    "\n",
    "accuracy = len(check)/len(tagged_seq)\n",
    "print('Viterbi Algorithm Accuracy: ', accuracy * 100)"
   ],
   "metadata": {
    "collapsed": false
   }
  },
  {
   "cell_type": "code",
   "execution_count": 13,
   "outputs": [
    {
     "data": {
      "text/plain": "[('звісно', ','),\n ('що', ' '),\n ('все', ' '),\n ('відбувалося', ' '),\n ('поступово', ' '),\n ('до', ' '),\n ('мого', ' '),\n ('першого', ' '),\n ('перерозгляду', '.'),\n ('(', ' '),\n ('після', ' '),\n ('складених', '.'),\n ('планів', ' '),\n (')', ' '),\n ('мало', ' '),\n ('пройти', ' '),\n ('з', ' '),\n ('пів', ' '),\n ('року', ' '),\n ('проте', ' '),\n ('все', ' '),\n ('відбулося', ' '),\n ('саме', ' '),\n ('так', ' '),\n ('як', ' '),\n ('планував', ' '),\n ('дух', ' '),\n ('торкнувся', ' '),\n ('його', ' '),\n ('до', ' '),\n ('руки', ' '),\n ('і', ' '),\n ('вказав', ' '),\n ('на', ' '),\n ('себе', ' '),\n ('молодшого', ' '),\n ('великий', ' '),\n ('ентузіазм', ' '),\n ('та', ' '),\n ('бажання', ' '),\n ('допомагати', ' '),\n ('бачив', ' '),\n ('дві', ' '),\n ('сувілі', '.'),\n ('але', ' '),\n ('замалі', '.'),\n ('бо', ' '),\n ('в', ' '),\n ('цьому', ' '),\n ('є', ' '),\n ('свій', ' '),\n ('специфічний', ' '),\n ('кайф', ' '),\n ('він', ' '),\n ('мимоволі', ' '),\n ('звернув', ' '),\n ('свій', ' '),\n ('погляд', ' '),\n ('туди', ' '),\n ('де', ' '),\n ('за', ' '),\n ('терасами', ' '),\n ('саду', ','),\n ('знизу', ' '),\n ('догорали', '.'),\n ('й', ' '),\n ('колонади', ' '),\n ('й', ' '),\n ('плоскі', '.'),\n ('покрівлі', '.'),\n ('поглинаються', '.'),\n ('останнім', ' '),\n ('промінням', '.'),\n ('ниткою', ' '),\n ('що', ' '),\n (\"з'єднала\", '.'),\n ('ці', ' '),\n ('теми', ' '),\n ('стала', ' '),\n ('сучасна', ' '),\n ('лінія', ' '),\n ('роману', ' '),\n ('про', ' '),\n ('скаліченого', '.'),\n ('солдата', ' '),\n ('який', ' '),\n ('втратив', ' '),\n ('пам’ять', ','),\n ('і', ' '),\n ('жінку', ' '),\n ('яка', ' '),\n ('розповідає', ' '),\n ('йому', ' '),\n ('історію', ' '),\n ('про', ' '),\n ('нього', ' '),\n ('довелось', ' '),\n ('перевіряти', '.'),\n ('сервіровка', '.'),\n ('стола', ','),\n ('не', ' '),\n ('відповідає', ' '),\n ('тим', ','),\n ('правилам', ' '),\n ('які', ' '),\n ('мають', ' '),\n ('бути', ' '),\n ('будь', ' '),\n ('ласка', ','),\n ('не', ' '),\n ('соромтесь', '.'),\n ('коригувати', ' '),\n ('мої', ' '),\n ('помилки', ' '),\n ('у', ' '),\n ('коментарях', ' ')]"
     },
     "execution_count": 13,
     "metadata": {},
     "output_type": "execute_result"
    }
   ],
   "source": [
    "tagged_seq"
   ],
   "metadata": {
    "collapsed": false
   }
  },
  {
   "cell_type": "code",
   "execution_count": null,
   "outputs": [],
   "source": [
    "# Code to test all the test sentences\n",
    "# (takes alot of time to run s0 we won't run it here)\n",
    "# tagging the test sentences()\n",
    "test_tagged_words = [tup for sent in test_set for tup in sent]\n",
    "test_untagged_words = [tup[0] for sent in test_set for tup in sent]\n",
    "\n",
    "\n",
    "print('Starting testing')\n",
    "# start = time.time()\n",
    "tagged_seq = Viterbi(test_untagged_words)\n",
    "# end = time.time()\n",
    "# difference = end-start\n",
    "\n",
    "# print(\"Time taken in seconds: \", difference)\n"
   ],
   "metadata": {
    "collapsed": false,
    "pycharm": {
     "is_executing": true
    }
   }
  },
  {
   "cell_type": "code",
   "execution_count": 17,
   "outputs": [
    {
     "name": "stdout",
     "output_type": "stream",
     "text": [
      "Viterbi Algorithm Accuracy:  0.0\n"
     ]
    }
   ],
   "source": [
    "# accuracy\n",
    "check = [i for i, j in zip(tagged_seq, test_untagged_words) if i == j]\n",
    "\n",
    "accuracy = len(check) / len(tagged_seq)\n",
    "print('Viterbi Algorithm Accuracy: ', accuracy * 100)"
   ],
   "metadata": {
    "collapsed": false
   }
  },
  {
   "cell_type": "code",
   "execution_count": null,
   "outputs": [],
   "source": [],
   "metadata": {
    "collapsed": false
   }
  }
 ],
 "metadata": {
  "kernelspec": {
   "display_name": "Python 3",
   "language": "python",
   "name": "python3"
  },
  "language_info": {
   "codemirror_mode": {
    "name": "ipython",
    "version": 2
   },
   "file_extension": ".py",
   "mimetype": "text/x-python",
   "name": "python",
   "nbconvert_exporter": "python",
   "pygments_lexer": "ipython2",
   "version": "2.7.6"
  }
 },
 "nbformat": 4,
 "nbformat_minor": 0
}
